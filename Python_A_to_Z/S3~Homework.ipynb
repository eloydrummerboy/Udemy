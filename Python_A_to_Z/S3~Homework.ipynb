{
 "cells": [
  {
   "cell_type": "code",
   "execution_count": 2,
   "metadata": {},
   "outputs": [],
   "source": [
    "# This is a change from HP-Vbox\n",
    "# This change was done online.\n",
    "#Data \n",
    "revenue = [14574.49, 7606.46, 8611.41, 9175.41, 8058.65, 8105.44, 11496.28, 9766.09, 10305.32, 14379.96, 10713.97, 15433.50]\n",
    "expenses = [12051.82, 5695.07, 12319.20, 12089.72, 8658.57, 840.20, 3285.73, 5821.12, 6976.93, 16618.61, 10054.37, 3803.96]"
   ]
  },
  {
   "cell_type": "code",
   "execution_count": 3,
   "metadata": {},
   "outputs": [],
   "source": [
    "import numpy as np"
   ]
  },
  {
   "cell_type": "code",
   "execution_count": 24,
   "metadata": {},
   "outputs": [],
   "source": [
    "months = [\"January\", \"February\", \"March\", \"April\", \"May\", \"June\", \"July\", \"August\", \"September\", \"October\", \"November\", \"December\"]\n",
    "revenue = np.array(revenue)\n",
    "expenses = np.array(expenses)"
   ]
  },
  {
   "cell_type": "code",
   "execution_count": 5,
   "metadata": {},
   "outputs": [],
   "source": [
    "profit = revenue - expenses"
   ]
  },
  {
   "cell_type": "code",
   "execution_count": 10,
   "metadata": {},
   "outputs": [
    {
     "name": "stdout",
     "output_type": "stream",
     "text": [
      "[  2.523   1.911  -3.708  -2.914  -0.6     7.265   8.211   3.945   3.328\n",
      "  -2.239   0.66   11.63 ]\n"
     ]
    }
   ],
   "source": [
    "print(profit.round(0)/1000)"
   ]
  },
  {
   "cell_type": "code",
   "execution_count": 14,
   "metadata": {},
   "outputs": [],
   "source": [
    "tax = 0.3\n",
    "#Profit after tax\n",
    "pat = np.array(list(map(lambda x: x-(tax*x),profit)))"
   ]
  },
  {
   "cell_type": "code",
   "execution_count": 16,
   "metadata": {},
   "outputs": [
    {
     "name": "stdout",
     "output_type": "stream",
     "text": [
      "[ 1.766  1.338 -2.595 -2.04  -0.42   5.086  5.747  2.761  2.33  -1.567\n",
      "  0.462  8.141]\n"
     ]
    }
   ],
   "source": [
    "print(pat.round(0)/1000)"
   ]
  },
  {
   "cell_type": "code",
   "execution_count": 17,
   "metadata": {},
   "outputs": [],
   "source": [
    "# Profit Margin\n",
    "pm = pat/revenue"
   ]
  },
  {
   "cell_type": "code",
   "execution_count": 19,
   "metadata": {},
   "outputs": [
    {
     "name": "stdout",
     "output_type": "stream",
     "text": [
      "[ 12.  18. -30. -22.  -5.  63.  50.  28.  23. -11.   4.  53.]\n"
     ]
    }
   ],
   "source": [
    "print(pm.round(2)*100)"
   ]
  },
  {
   "cell_type": "code",
   "execution_count": 20,
   "metadata": {},
   "outputs": [],
   "source": [
    "mean_pat = pat.mean()"
   ]
  },
  {
   "cell_type": "code",
   "execution_count": 26,
   "metadata": {},
   "outputs": [],
   "source": [
    "good_months = np.array(list(filter(lambda x: x>mean_pat,pat)))\n",
    "bad_months = np.array(list(filter(lambda x: x<mean_pat, pat)))\n",
    "good_index = filter(lambda x: x>mean_pat,pat)"
   ]
  },
  {
   "cell_type": "code",
   "execution_count": 22,
   "metadata": {},
   "outputs": [
    {
     "name": "stdout",
     "output_type": "stream",
     "text": [
      "[ 1765.869  5085.668  5747.385  2761.479  2329.873  8140.678]\n"
     ]
    }
   ],
   "source": [
    "print(good_months)"
   ]
  },
  {
   "cell_type": "code",
   "execution_count": 23,
   "metadata": {},
   "outputs": [
    {
     "name": "stdout",
     "output_type": "stream",
     "text": [
      "[ 1337.973 -2595.453 -2040.017  -419.944 -1567.055   461.72 ]\n"
     ]
    }
   ],
   "source": [
    "print(bad_months)"
   ]
  },
  {
   "cell_type": "code",
   "execution_count": 44,
   "metadata": {},
   "outputs": [],
   "source": [
    "Good_Index = pat>mean_pat\n",
    "Bad_Index = pat<mean_pat\n",
    "gmonths = list()\n",
    "bmonths = list()\n",
    "for i in range(0,len(pat)):\n",
    "    if(Good_Index[i]):\n",
    "        gmonths.append(months[i])\n",
    "    if(Bad_Index[i]):\n",
    "        bmonths.append(months[i])\n",
    "    \n",
    "    "
   ]
  },
  {
   "cell_type": "code",
   "execution_count": 45,
   "metadata": {},
   "outputs": [
    {
     "name": "stdout",
     "output_type": "stream",
     "text": [
      "['January', 'June', 'July', 'August', 'September', 'December']\n",
      "['February', 'March', 'April', 'May', 'October', 'November']\n"
     ]
    }
   ],
   "source": [
    "print(gmonths)\n",
    "print(bmonths)"
   ]
  },
  {
   "cell_type": "code",
   "execution_count": null,
   "metadata": {},
   "outputs": [],
   "source": []
  },
  {
   "cell_type": "code",
   "execution_count": null,
   "metadata": {},
   "outputs": [],
   "source": []
  }
 ],
 "metadata": {
  "kernelspec": {
   "display_name": "Python 3",
   "language": "python",
   "name": "python3"
  },
  "language_info": {
   "codemirror_mode": {
    "name": "ipython",
    "version": 3
   },
   "file_extension": ".py",
   "mimetype": "text/x-python",
   "name": "python",
   "nbconvert_exporter": "python",
   "pygments_lexer": "ipython3",
   "version": "3.5.2"
  }
 },
 "nbformat": 4,
 "nbformat_minor": 2
}
